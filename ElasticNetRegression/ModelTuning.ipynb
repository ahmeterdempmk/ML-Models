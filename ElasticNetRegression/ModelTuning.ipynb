{
 "cells": [
  {
   "cell_type": "code",
   "execution_count": 1,
   "metadata": {},
   "outputs": [],
   "source": [
    "import numpy as np\n",
    "import pandas as pd\n",
    "from sklearn.linear_model import ElasticNet, ElasticNetCV\n",
    "from sklearn.metrics import mean_squared_error, r2_score\n",
    "from sklearn.model_selection import train_test_split, cross_val_score\n",
    "from sklearn import model_selection\n",
    "import matplotlib.pyplot as plt"
   ]
  },
  {
   "cell_type": "code",
   "execution_count": 2,
   "metadata": {},
   "outputs": [],
   "source": [
    "df = pd.read_csv(\"Hitters.csv\")\n",
    "df = df.dropna()\n",
    "dms = pd.get_dummies(df[[\"League\", \"Division\", \"NewLeague\"]])"
   ]
  },
  {
   "cell_type": "code",
   "execution_count": 3,
   "metadata": {},
   "outputs": [],
   "source": [
    "X_ = df.drop([\"Salary\", \"League\", \"Division\", \"NewLeague\"], axis=1).astype('float64')\n",
    "X = pd.concat([X_, dms[[\"League_N\", \"Division_W\", \"NewLeague_N\"]]], axis=1)\n",
    "y = df[\"Salary\"]\n",
    "\n",
    "X_train, X_test, y_train, y_test = train_test_split(X, y, test_size=0.25, random_state=42)"
   ]
  },
  {
   "cell_type": "code",
   "execution_count": 4,
   "metadata": {},
   "outputs": [],
   "source": [
    "enet_cv_model = ElasticNetCV(cv=10).fit(X_train, y_train)"
   ]
  },
  {
   "cell_type": "code",
   "execution_count": 5,
   "metadata": {},
   "outputs": [
    {
     "data": {
      "text/plain": [
       "5230.764736479864"
      ]
     },
     "execution_count": 5,
     "metadata": {},
     "output_type": "execute_result"
    }
   ],
   "source": [
    "enet_cv_model.alpha_"
   ]
  },
  {
   "cell_type": "code",
   "execution_count": 6,
   "metadata": {},
   "outputs": [
    {
     "data": {
      "text/plain": [
       "-38.51940558394301"
      ]
     },
     "execution_count": 6,
     "metadata": {},
     "output_type": "execute_result"
    }
   ],
   "source": [
    "enet_cv_model.intercept_"
   ]
  },
  {
   "cell_type": "code",
   "execution_count": 7,
   "metadata": {},
   "outputs": [
    {
     "data": {
      "text/plain": [
       "array([ 0.62845434,  0.        ,  0.        ,  0.        ,  0.        ,\n",
       "        0.        , -0.        ,  0.        ,  0.09788752,  0.        ,\n",
       "        0.27265769,  0.19270075,  0.00758665,  0.3106529 ,  0.        ,\n",
       "       -0.        ,  0.        , -0.        ,  0.        ])"
      ]
     },
     "execution_count": 7,
     "metadata": {},
     "output_type": "execute_result"
    }
   ],
   "source": [
    "enet_cv_model.coef_"
   ]
  },
  {
   "cell_type": "code",
   "execution_count": 9,
   "metadata": {},
   "outputs": [],
   "source": [
    "# Final model\n",
    "enet_tuned_model = ElasticNet(alpha=enet_cv_model.alpha_).fit(X_train, y_train)"
   ]
  },
  {
   "cell_type": "code",
   "execution_count": 10,
   "metadata": {},
   "outputs": [],
   "source": [
    "y_pred = enet_tuned_model.predict(X_test)"
   ]
  },
  {
   "cell_type": "code",
   "execution_count": 11,
   "metadata": {},
   "outputs": [
    {
     "data": {
      "text/plain": [
       "394.15280563218795"
      ]
     },
     "execution_count": 11,
     "metadata": {},
     "output_type": "execute_result"
    }
   ],
   "source": [
    "np.sqrt(mean_squared_error(y_test, y_pred))"
   ]
  },
  {
   "cell_type": "code",
   "execution_count": 12,
   "metadata": {},
   "outputs": [
    {
     "name": "stdout",
     "output_type": "stream",
     "text": [
      "\u001b[1;31mInit signature:\u001b[0m\n",
      "\u001b[0mElasticNet\u001b[0m\u001b[1;33m(\u001b[0m\u001b[1;33m\n",
      "\u001b[0m    \u001b[0malpha\u001b[0m\u001b[1;33m=\u001b[0m\u001b[1;36m1.0\u001b[0m\u001b[1;33m,\u001b[0m\u001b[1;33m\n",
      "\u001b[0m    \u001b[1;33m*\u001b[0m\u001b[1;33m,\u001b[0m\u001b[1;33m\n",
      "\u001b[0m    \u001b[0ml1_ratio\u001b[0m\u001b[1;33m=\u001b[0m\u001b[1;36m0.5\u001b[0m\u001b[1;33m,\u001b[0m\u001b[1;33m\n",
      "\u001b[0m    \u001b[0mfit_intercept\u001b[0m\u001b[1;33m=\u001b[0m\u001b[1;32mTrue\u001b[0m\u001b[1;33m,\u001b[0m\u001b[1;33m\n",
      "\u001b[0m    \u001b[0mprecompute\u001b[0m\u001b[1;33m=\u001b[0m\u001b[1;32mFalse\u001b[0m\u001b[1;33m,\u001b[0m\u001b[1;33m\n",
      "\u001b[0m    \u001b[0mmax_iter\u001b[0m\u001b[1;33m=\u001b[0m\u001b[1;36m1000\u001b[0m\u001b[1;33m,\u001b[0m\u001b[1;33m\n",
      "\u001b[0m    \u001b[0mcopy_X\u001b[0m\u001b[1;33m=\u001b[0m\u001b[1;32mTrue\u001b[0m\u001b[1;33m,\u001b[0m\u001b[1;33m\n",
      "\u001b[0m    \u001b[0mtol\u001b[0m\u001b[1;33m=\u001b[0m\u001b[1;36m0.0001\u001b[0m\u001b[1;33m,\u001b[0m\u001b[1;33m\n",
      "\u001b[0m    \u001b[0mwarm_start\u001b[0m\u001b[1;33m=\u001b[0m\u001b[1;32mFalse\u001b[0m\u001b[1;33m,\u001b[0m\u001b[1;33m\n",
      "\u001b[0m    \u001b[0mpositive\u001b[0m\u001b[1;33m=\u001b[0m\u001b[1;32mFalse\u001b[0m\u001b[1;33m,\u001b[0m\u001b[1;33m\n",
      "\u001b[0m    \u001b[0mrandom_state\u001b[0m\u001b[1;33m=\u001b[0m\u001b[1;32mNone\u001b[0m\u001b[1;33m,\u001b[0m\u001b[1;33m\n",
      "\u001b[0m    \u001b[0mselection\u001b[0m\u001b[1;33m=\u001b[0m\u001b[1;34m'cyclic'\u001b[0m\u001b[1;33m,\u001b[0m\u001b[1;33m\n",
      "\u001b[0m\u001b[1;33m)\u001b[0m\u001b[1;33m\u001b[0m\u001b[1;33m\u001b[0m\u001b[0m\n",
      "\u001b[1;31mDocstring:\u001b[0m     \n",
      "Linear regression with combined L1 and L2 priors as regularizer.\n",
      "\n",
      "Minimizes the objective function::\n",
      "\n",
      "        1 / (2 * n_samples) * ||y - Xw||^2_2\n",
      "        + alpha * l1_ratio * ||w||_1\n",
      "        + 0.5 * alpha * (1 - l1_ratio) * ||w||^2_2\n",
      "\n",
      "If you are interested in controlling the L1 and L2 penalty\n",
      "separately, keep in mind that this is equivalent to::\n",
      "\n",
      "        a * ||w||_1 + 0.5 * b * ||w||_2^2\n",
      "\n",
      "where::\n",
      "\n",
      "        alpha = a + b and l1_ratio = a / (a + b)\n",
      "\n",
      "The parameter l1_ratio corresponds to alpha in the glmnet R package while\n",
      "alpha corresponds to the lambda parameter in glmnet. Specifically, l1_ratio\n",
      "= 1 is the lasso penalty. Currently, l1_ratio <= 0.01 is not reliable,\n",
      "unless you supply your own sequence of alpha.\n",
      "\n",
      "Read more in the :ref:`User Guide <elastic_net>`.\n",
      "\n",
      "Parameters\n",
      "----------\n",
      "alpha : float, default=1.0\n",
      "    Constant that multiplies the penalty terms. Defaults to 1.0.\n",
      "    See the notes for the exact mathematical meaning of this\n",
      "    parameter. ``alpha = 0`` is equivalent to an ordinary least square,\n",
      "    solved by the :class:`LinearRegression` object. For numerical\n",
      "    reasons, using ``alpha = 0`` with the ``Lasso`` object is not advised.\n",
      "    Given this, you should use the :class:`LinearRegression` object.\n",
      "\n",
      "l1_ratio : float, default=0.5\n",
      "    The ElasticNet mixing parameter, with ``0 <= l1_ratio <= 1``. For\n",
      "    ``l1_ratio = 0`` the penalty is an L2 penalty. ``For l1_ratio = 1`` it\n",
      "    is an L1 penalty.  For ``0 < l1_ratio < 1``, the penalty is a\n",
      "    combination of L1 and L2.\n",
      "\n",
      "fit_intercept : bool, default=True\n",
      "    Whether the intercept should be estimated or not. If ``False``, the\n",
      "    data is assumed to be already centered.\n",
      "\n",
      "precompute : bool or array-like of shape (n_features, n_features),                 default=False\n",
      "    Whether to use a precomputed Gram matrix to speed up\n",
      "    calculations. The Gram matrix can also be passed as argument.\n",
      "    For sparse input this option is always ``False`` to preserve sparsity.\n",
      "    Check :ref:`an example on how to use a precomputed Gram Matrix in ElasticNet\n",
      "    <sphx_glr_auto_examples_linear_model_plot_elastic_net_precomputed_gram_matrix_with_weighted_samples.py>`\n",
      "    for details.\n",
      "\n",
      "max_iter : int, default=1000\n",
      "    The maximum number of iterations.\n",
      "\n",
      "copy_X : bool, default=True\n",
      "    If ``True``, X will be copied; else, it may be overwritten.\n",
      "\n",
      "tol : float, default=1e-4\n",
      "    The tolerance for the optimization: if the updates are\n",
      "    smaller than ``tol``, the optimization code checks the\n",
      "    dual gap for optimality and continues until it is smaller\n",
      "    than ``tol``, see Notes below.\n",
      "\n",
      "warm_start : bool, default=False\n",
      "    When set to ``True``, reuse the solution of the previous call to fit as\n",
      "    initialization, otherwise, just erase the previous solution.\n",
      "    See :term:`the Glossary <warm_start>`.\n",
      "\n",
      "positive : bool, default=False\n",
      "    When set to ``True``, forces the coefficients to be positive.\n",
      "\n",
      "random_state : int, RandomState instance, default=None\n",
      "    The seed of the pseudo random number generator that selects a random\n",
      "    feature to update. Used when ``selection`` == 'random'.\n",
      "    Pass an int for reproducible output across multiple function calls.\n",
      "    See :term:`Glossary <random_state>`.\n",
      "\n",
      "selection : {'cyclic', 'random'}, default='cyclic'\n",
      "    If set to 'random', a random coefficient is updated every iteration\n",
      "    rather than looping over features sequentially by default. This\n",
      "    (setting to 'random') often leads to significantly faster convergence\n",
      "    especially when tol is higher than 1e-4.\n",
      "\n",
      "Attributes\n",
      "----------\n",
      "coef_ : ndarray of shape (n_features,) or (n_targets, n_features)\n",
      "    Parameter vector (w in the cost function formula).\n",
      "\n",
      "sparse_coef_ : sparse matrix of shape (n_features,) or             (n_targets, n_features)\n",
      "    Sparse representation of the `coef_`.\n",
      "\n",
      "intercept_ : float or ndarray of shape (n_targets,)\n",
      "    Independent term in decision function.\n",
      "\n",
      "n_iter_ : list of int\n",
      "    Number of iterations run by the coordinate descent solver to reach\n",
      "    the specified tolerance.\n",
      "\n",
      "dual_gap_ : float or ndarray of shape (n_targets,)\n",
      "    Given param alpha, the dual gaps at the end of the optimization,\n",
      "    same shape as each observation of y.\n",
      "\n",
      "n_features_in_ : int\n",
      "    Number of features seen during :term:`fit`.\n",
      "\n",
      "    .. versionadded:: 0.24\n",
      "\n",
      "feature_names_in_ : ndarray of shape (`n_features_in_`,)\n",
      "    Names of features seen during :term:`fit`. Defined only when `X`\n",
      "    has feature names that are all strings.\n",
      "\n",
      "    .. versionadded:: 1.0\n",
      "\n",
      "See Also\n",
      "--------\n",
      "ElasticNetCV : Elastic net model with best model selection by\n",
      "    cross-validation.\n",
      "SGDRegressor : Implements elastic net regression with incremental training.\n",
      "SGDClassifier : Implements logistic regression with elastic net penalty\n",
      "    (``SGDClassifier(loss=\"log_loss\", penalty=\"elasticnet\")``).\n",
      "\n",
      "Notes\n",
      "-----\n",
      "To avoid unnecessary memory duplication the X argument of the fit method\n",
      "should be directly passed as a Fortran-contiguous numpy array.\n",
      "\n",
      "The precise stopping criteria based on `tol` are the following: First, check that\n",
      "that maximum coordinate update, i.e. :math:`\\max_j |w_j^{new} - w_j^{old}|`\n",
      "is smaller than `tol` times the maximum absolute coefficient, :math:`\\max_j |w_j|`.\n",
      "If so, then additionally check whether the dual gap is smaller than `tol` times\n",
      ":math:`||y||_2^2 / n_{      ext{samples}}`.\n",
      "\n",
      "Examples\n",
      "--------\n",
      ">>> from sklearn.linear_model import ElasticNet\n",
      ">>> from sklearn.datasets import make_regression\n",
      "\n",
      ">>> X, y = make_regression(n_features=2, random_state=0)\n",
      ">>> regr = ElasticNet(random_state=0)\n",
      ">>> regr.fit(X, y)\n",
      "ElasticNet(random_state=0)\n",
      ">>> print(regr.coef_)\n",
      "[18.83816048 64.55968825]\n",
      ">>> print(regr.intercept_)\n",
      "1.451...\n",
      ">>> print(regr.predict([[0, 0]]))\n",
      "[1.451...]\n",
      "\u001b[1;31mFile:\u001b[0m           c:\\users\\samsung\\appdata\\local\\programs\\python\\python312\\lib\\site-packages\\sklearn\\linear_model\\_coordinate_descent.py\n",
      "\u001b[1;31mType:\u001b[0m           ABCMeta\n",
      "\u001b[1;31mSubclasses:\u001b[0m     Lasso"
     ]
    }
   ],
   "source": [
    "?ElasticNet"
   ]
  },
  {
   "cell_type": "code",
   "execution_count": null,
   "metadata": {},
   "outputs": [],
   "source": []
  }
 ],
 "metadata": {
  "kernelspec": {
   "display_name": "Python 3",
   "language": "python",
   "name": "python3"
  },
  "language_info": {
   "codemirror_mode": {
    "name": "ipython",
    "version": 3
   },
   "file_extension": ".py",
   "mimetype": "text/x-python",
   "name": "python",
   "nbconvert_exporter": "python",
   "pygments_lexer": "ipython3",
   "version": "3.12.4"
  }
 },
 "nbformat": 4,
 "nbformat_minor": 2
}
